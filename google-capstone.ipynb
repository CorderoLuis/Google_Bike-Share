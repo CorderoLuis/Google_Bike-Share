{
 "cells": [
  {
   "cell_type": "code",
   "execution_count": 1,
   "id": "54fd2b3e",
   "metadata": {
    "execution": {
     "iopub.execute_input": "2022-10-19T18:20:22.758078Z",
     "iopub.status.busy": "2022-10-19T18:20:22.756380Z",
     "iopub.status.idle": "2022-10-19T18:20:22.882031Z",
     "shell.execute_reply": "2022-10-19T18:20:22.880387Z"
    },
    "papermill": {
     "duration": 0.134757,
     "end_time": "2022-10-19T18:20:22.885308",
     "exception": false,
     "start_time": "2022-10-19T18:20:22.750551",
     "status": "completed"
    },
    "tags": []
   },
   "outputs": [],
   "source": [
    "##Google Data Analytics Capstone: Complete a Case Study\n",
    "##Case Study: How Does a Bike-Share Navigate Speedy Success?"
   ]
  },
  {
   "cell_type": "code",
   "execution_count": 2,
   "id": "49b432f0",
   "metadata": {
    "execution": {
     "iopub.execute_input": "2022-10-19T18:20:22.928979Z",
     "iopub.status.busy": "2022-10-19T18:20:22.896584Z",
     "iopub.status.idle": "2022-10-19T18:20:22.941744Z",
     "shell.execute_reply": "2022-10-19T18:20:22.939137Z"
    },
    "papermill": {
     "duration": 0.053057,
     "end_time": "2022-10-19T18:20:22.944430",
     "exception": true,
     "start_time": "2022-10-19T18:20:22.891373",
     "status": "failed"
    },
    "tags": []
   },
   "outputs": [
    {
     "ename": "ERROR",
     "evalue": "Error in parse(text = x, srcfile = src): <text>:1:9: unexpected symbol\n1: Install required\n            ^\n",
     "output_type": "error",
     "traceback": [
      "Error in parse(text = x, srcfile = src): <text>:1:9: unexpected symbol\n1: Install required\n            ^\nTraceback:\n"
     ]
    }
   ],
   "source": [
    "Install required packages \n",
    "tidyverse #data import and wrangling\n",
    "lubridate #date functions \n",
    "ggplot #visualization\n",
    "\n",
    "install.packages(\"tidyverse\") \n",
    "install.packages(\"lubridate\")\n",
    "install.packages(\"ggplot2\") \n",
    "library(tidyverse)#wrangle data\n",
    "library(lubridate)#wrangle date attributes \n",
    "library(ggplot2)#visualize data"
   ]
  },
  {
   "cell_type": "code",
   "execution_count": null,
   "id": "3863ece5",
   "metadata": {
    "papermill": {
     "duration": null,
     "end_time": null,
     "exception": null,
     "start_time": null,
     "status": "pending"
    },
    "tags": []
   },
   "outputs": [],
   "source": [
    "install.packages(\"tidyverse\")\n",
    "library(tidyverse)\n",
    "install.packages(\"ggplot2\")\n",
    "library(ggplot2)\n",
    "library(lubridate)\n",
    "install.packages(\"lubridate\")\n",
    "install.packages(\"dplyr\")\n",
    "library(dplyr)\n",
    "install.packages(\"readr\")\n",
    "library(readr)\n",
    "install.packages(\"janitor\")\n",
    "library(janitor)\n",
    "install.packages(\"data.table\")\n",
    "library(data.table)\n",
    "install.packages(\"tidyr\")\n",
    "library(tidyr)"
   ]
  },
  {
   "cell_type": "code",
   "execution_count": null,
   "id": "07a0dccf",
   "metadata": {
    "papermill": {
     "duration": null,
     "end_time": null,
     "exception": null,
     "start_time": null,
     "status": "pending"
    },
    "tags": []
   },
   "outputs": [],
   "source": [
    "#Retrieve or set the row or column names of a matrix-like object.\n",
    "colnames(Abril)\n",
    "colnames(Mayo)\n",
    "colnames(Junio)\n",
    "colnames(Julio)\n",
    "colnames(Agosto)\n",
    "colnames(Septiembre)\n",
    "colnames(Octubre)\n",
    "colnames(Noviembre)\n",
    "colnames(Diciembre)\n",
    "colnames(Enero)\n",
    "colnames(Febrero)\n",
    "colnames(Marzo)\n"
   ]
  },
  {
   "cell_type": "code",
   "execution_count": null,
   "id": "b5ec6801",
   "metadata": {
    "papermill": {
     "duration": null,
     "end_time": null,
     "exception": null,
     "start_time": null,
     "status": "pending"
    },
    "tags": []
   },
   "outputs": [],
   "source": [
    "#See every column in a data frame\n",
    "glimpse(Abril)\n",
    "glimpse(Mayo)\n",
    "glimpse(Junio)\n",
    "glimpse(Julio)\n",
    "glimpse(Agosto)\n",
    "glimpse(Septiembre)\n",
    "glimpse(Octubre)\n",
    "glimpse(Noviembre)\n",
    "glimpse(Diciembre)\n",
    "glimpse(Enero)\n",
    "glimpse(Febrero)\n",
    "glimpse(Marzo)"
   ]
  },
  {
   "cell_type": "code",
   "execution_count": null,
   "id": "eef18dc3",
   "metadata": {
    "papermill": {
     "duration": null,
     "end_time": null,
     "exception": null,
     "start_time": null,
     "status": "pending"
    },
    "tags": []
   },
   "outputs": [],
   "source": [
    "# Compare column identity\n",
    "compare_df_cols_same(Abril,Mayo,Junio,Julio,Agosto,Septiembre,Octubre,Noviembre,Diciembre,Enero,Febrero,Marzo,verbose = FALSE)\n",
    "compare_df_cols_same(Abril,Mayo,Junio,Julio,Agosto,Septiembre,Octubre,Noviembre,Diciembre,Enero,Febrero,Marzo,bind_method = \"rbind\")\n",
    "compare_df_cols(Abril,Mayo,Junio,Julio,Agosto,Septiembre,Octubre,Noviembre,Diciembre,Enero,Febrero,Marzo,return=\"mismatch\")"
   ]
  },
  {
   "cell_type": "code",
   "execution_count": null,
   "id": "92073e14",
   "metadata": {
    "papermill": {
     "duration": null,
     "end_time": null,
     "exception": null,
     "start_time": null,
     "status": "pending"
    },
    "tags": []
   },
   "outputs": [],
   "source": [
    "# Modify type of variables\n",
    "Abril<-mutate(Abril,end_station_id=as.character(end_station_id),start_station_id=as.character(start_station_id))\n",
    "Mayo<-mutate(Mayo,end_station_id=as.character(end_station_id),start_station_id=as.character(start_station_id))\n",
    "Junio<-mutate(Junio,end_station_id=as.character(end_station_id),start_station_id=as.character(start_station_id))\n",
    "Julio<-mutate(Julio,end_station_id=as.character(end_station_id),start_station_id=as.character(start_station_id))\n",
    "Agosto<-mutate(Agosto,end_station_id=as.character(end_station_id),start_station_id=as.character(start_station_id))\n",
    "Septiembre<-mutate(Septiembre,end_station_id=as.character(end_station_id),start_station_id=as.character(start_station_id))\n",
    "Octubre<-mutate(Octubre,end_station_id=as.character(end_station_id),start_station_id=as.character(start_station_id))\n",
    "Noviembre<-mutate(Noviembre,end_station_id=as.character(end_station_id),start_station_id=as.character(start_station_id))"
   ]
  },
  {
   "cell_type": "code",
   "execution_count": null,
   "id": "7cd8a152",
   "metadata": {
    "papermill": {
     "duration": null,
     "end_time": null,
     "exception": null,
     "start_time": null,
     "status": "pending"
    },
    "tags": []
   },
   "outputs": [],
   "source": [
    "#Stack individual data frames into one big data frame\n",
    "all_trip<-bind_rows(Abril,Mayo,Junio,Julio,Agosto,Septiembre,Octubre,Noviembre,Diciembre,Enero,Febrero,Marzo)"
   ]
  },
  {
   "cell_type": "code",
   "execution_count": null,
   "id": "190a320b",
   "metadata": {
    "papermill": {
     "duration": null,
     "end_time": null,
     "exception": null,
     "start_time": null,
     "status": "pending"
    },
    "tags": []
   },
   "outputs": [],
   "source": [
    "#Eliminate columns that are not necessary for the analysis.\n",
    "all_trip<-all_trip%>%\n",
    "  select(-c(start_lat,start_lng,end_lat,end_lng))\n"
   ]
  },
  {
   "cell_type": "code",
   "execution_count": null,
   "id": "b49c1c40",
   "metadata": {
    "papermill": {
     "duration": null,
     "end_time": null,
     "exception": null,
     "start_time": null,
     "status": "pending"
    },
    "tags": []
   },
   "outputs": [],
   "source": [
    "#Verify columns names (All_trip)\n",
    "colnames(all_trip)\n",
    "\n",
    "#Verify columns and rows (all_trip)\n",
    "dim.data.frame(all_trip)\n",
    " \n",
    "#Verify data structure and types of data\n",
    "str(all_trip)"
   ]
  },
  {
   "cell_type": "code",
   "execution_count": null,
   "id": "9b139600",
   "metadata": {
    "papermill": {
     "duration": null,
     "end_time": null,
     "exception": null,
     "start_time": null,
     "status": "pending"
    },
    "tags": []
   },
   "outputs": [],
   "source": [
    "#Rename columns to make them consistent.\n",
    "all_trip<-all_trip %>%\n",
    "          rename(Rider_ID=ride_id,Bike_ID=rideable_type,Start_time=started_at,End_time=ended_at,User_type=member_casual)\n",
    "glimpse(all_trip)"
   ]
  },
  {
   "cell_type": "code",
   "execution_count": null,
   "id": "6a0b04de",
   "metadata": {
    "papermill": {
     "duration": null,
     "end_time": null,
     "exception": null,
     "start_time": null,
     "status": "pending"
    },
    "tags": []
   },
   "outputs": [],
   "source": [
    "colnames(all_trip)  #List of column names\n",
    "nrow(all_trip)  #How many rows are in data frame?\n",
    "dim(all_trip)  #Dimensions of the data frame?\n",
    "head(all_trip)  #See the first 6 rows of data frame.  Also tail(all_trips)\n",
    "str(all_trip)  #See list of columns and data types (numeric, character, etc)\n",
    "summary(all_trip)  #Statistical summary of data. Mainly for numeric\n",
    "skim(all_trip)#See overview of data frame\n",
    "table(all_trip$User_type)#See variable\n",
    "table(all_trip$Bike_ID)#See variable\n"
   ]
  },
  {
   "cell_type": "code",
   "execution_count": null,
   "id": "acd65383",
   "metadata": {
    "papermill": {
     "duration": null,
     "end_time": null,
     "exception": null,
     "start_time": null,
     "status": "pending"
    },
    "tags": []
   },
   "outputs": [],
   "source": [
    "# Format date time from Date column\n",
    "all_trip$Date <- as.Date(all_trip$Start_time)\n",
    "all_trip$month <- format(as.Date(all_trip$date), \"%m\")\n",
    "all_trip$day <- format(as.Date(all_trip$date), \"%d\")\n",
    "all_trip$year <- format(as.Date(all_trip$date), \"%Y\")\n",
    "all_trip$day_of_week <- format(as.Date(all_trip$date), \"%A\")"
   ]
  },
  {
   "cell_type": "code",
   "execution_count": null,
   "id": "e9472950",
   "metadata": {
    "papermill": {
     "duration": null,
     "end_time": null,
     "exception": null,
     "start_time": null,
     "status": "pending"
    },
    "tags": []
   },
   "outputs": [],
   "source": [
    "#Add \"Ride_length\" column for arithmetic calculations\n",
    "all_trip$Ride_length<-difftime(all_trip$End_time,all_trip$Start_time)\n",
    "# Inspect the structure of the columns\n",
    "str(all_trip)\n",
    "\n",
    "# Converting Ride Length to numeric\n",
    "is.factor(all_trip$Ride_length)\n",
    "all_trip$Ride_length <- as.numeric(as.character(all_trip$Ride_length))\n",
    "is.numeric(all_trip$Ride_length)\n",
    "\n",
    "#Verify that there are no negative values of Ride_length \n",
    "nrow(subset(all_trip,Ride_length <= 0))  \n",
    "\n",
    "#create a new version of the dataframe (v2) where no Ride_length <=0\n",
    "All_trips_v2 <- all_trip[!(all_trip$Ride_length <= 0),]"
   ]
  },
  {
   "cell_type": "code",
   "execution_count": null,
   "id": "6f187f07",
   "metadata": {
    "papermill": {
     "duration": null,
     "end_time": null,
     "exception": null,
     "start_time": null,
     "status": "pending"
    },
    "tags": []
   },
   "outputs": [],
   "source": [
    "#Analayze Ride_length statistical data\n",
    "mean(All_trips_v2$Ride_length) #straight average (total ride length / rides)\n",
    "median(All_trips_v2$Ride_length) #midpoint number in the ascending array of ride lengths\n",
    "max(All_trips_v2$Ride_length) #longest ride\n",
    "min(All_trips_v2$Ride_length) #shortest ride\n",
    "\n",
    "#Analyze Above but condesed\n",
    "summary(All_trips_v2$Ride_length)"
   ]
  },
  {
   "cell_type": "code",
   "execution_count": null,
   "id": "3c4a79e6",
   "metadata": {
    "papermill": {
     "duration": null,
     "end_time": null,
     "exception": null,
     "start_time": null,
     "status": "pending"
    },
    "tags": []
   },
   "outputs": [],
   "source": [
    "#Analyze Compare User_type (members vs casual)\n",
    "aggregate(All_trips_v2$Ride_length ~ All_trips_v2$User_type, FUN = mean)\n",
    "aggregate(All_trips_v2$Ride_length ~ All_trips_v2$User_type, FUN = median)\n",
    "aggregate(All_trips_v2$Ride_length ~ All_trips_v2$User_type, FUN = max)\n",
    "aggregate(All_trips_v2$Ride_length ~ All_trips_v2$User_type, FUN = min)\n",
    "\n",
    "# Analyze See the average ride time by each day for members vs casual users\n",
    "aggregate(All_trips_v2$Ride_length ~ All_trips_v2$User_type + All_trips_v2$day_of_week, FUN = mean)\n",
    "aggregate(All_trips_v2$Ride_length ~ All_trips_v2$User_type + All_trips_v2$Bike_ID, FUN = mean)"
   ]
  },
  {
   "cell_type": "code",
   "execution_count": null,
   "id": "d7f9cf3f",
   "metadata": {
    "papermill": {
     "duration": null,
     "end_time": null,
     "exception": null,
     "start_time": null,
     "status": "pending"
    },
    "tags": []
   },
   "outputs": [],
   "source": [
    "#Summary by Ride_length\n",
    "summary(All_trips_v2$Ride_length)\n",
    "summary(All_trips_v2)\n",
    "summary(All_trips_v2$day_of_week)\n",
    "summary(All_trips_v2$Bike_ID)\n",
    "\n",
    "#Analyze riders data by Type and weekday\n",
    "All_trips_v2 %>% \n",
    "  mutate(day_of_week= wday(Start_time, label = TRUE)) %>%  #creates weekday field using wday()\n",
    "  group_by(User_type, day_of_week) %>%  #groups by usertype and weekday\n",
    "  summarise(number_of_rides = n() %>%                          #calculates the number of rides and average duration \n",
    "            average_duration = mean(Ride_length)) "
   ]
  },
  {
   "cell_type": "code",
   "execution_count": null,
   "id": "0a97d4a7",
   "metadata": {
    "papermill": {
     "duration": null,
     "end_time": null,
     "exception": null,
     "start_time": null,
     "status": "pending"
    },
    "tags": []
   },
   "outputs": [],
   "source": [
    "#Visualize the number of rides by rider type\n",
    "All_trips_v2 %>% \n",
    "  mutate(day_of_week= wday(Start_time, label = TRUE)) %>% \n",
    "  group_by(User_type, day_of_week) %>% \n",
    "  summarise(number_of_rides = n()\n",
    "            ,average_duration = mean(Ride_length)) %>% \n",
    "  ggplot(aes(x = day_of_week, y = number_of_rides, fill = User_type))+\n",
    "  theme(axis.text.x = element_text(angle = 30))+\n",
    "  scale_y_continuous(labels = function(x) format(x, scientific = FALSE))+\n",
    " labs(title=\"Numbers of rides by User type\")+geom_col(position = \"dodge\")\n",
    "\n",
    "#Average duration by usertype\n",
    "All_trips_v2 %>% \n",
    "  mutate(day_of_week = wday(Start_time, label = TRUE)) %>% \n",
    "  group_by(User_type, day_of_week) %>% \n",
    "  summarise(number_of_rides = n()\n",
    "            ,average_duration = mean(Ride_length)) %>% \n",
    "  ggplot(aes(x =day_of_week, y = average_duration, fill = User_type)) +\n",
    "  geom_col(position = \"dodge\")+\n",
    "  labs(title=\"Average duration by User type\")\n",
    "\n",
    "#Trips by users type vs month\n",
    "All_trips_v2 %>%  \n",
    "  group_by(User_type, month) %>% \n",
    "  summarise(number_of_rides = n()) %>% \n",
    "  arrange(User_type, month)  %>% \n",
    "  ggplot(aes(x = month, y = number_of_rides, fill = User_type)) +\n",
    "  labs(title =\"Trips by User type Vs. Month\") +\n",
    "  theme(axis.text.x = element_text(angle = 30)) +\n",
    "  geom_col(width=0.5, position = position_dodge(width=0.5)) +\n",
    "  scale_y_continuous(labels = function(x) format(x, scientific = FALSE))"
   ]
  },
  {
   "cell_type": "code",
   "execution_count": null,
   "id": "0dfb0ea9",
   "metadata": {
    "papermill": {
     "duration": null,
     "end_time": null,
     "exception": null,
     "start_time": null,
     "status": "pending"
    },
    "tags": []
   },
   "outputs": [],
   "source": [
    "#Export data (.csv) to perform visualizations.\n",
    "write.csv(All_trips_v2,file = \"Alltrips_v2.csv\")\n"
   ]
  }
 ],
 "metadata": {
  "kernelspec": {
   "display_name": "R",
   "language": "R",
   "name": "ir"
  },
  "language_info": {
   "codemirror_mode": "r",
   "file_extension": ".r",
   "mimetype": "text/x-r-source",
   "name": "R",
   "pygments_lexer": "r",
   "version": "4.0.5"
  },
  "papermill": {
   "default_parameters": {},
   "duration": 3.701601,
   "end_time": "2022-10-19T18:20:23.066049",
   "environment_variables": {},
   "exception": true,
   "input_path": "__notebook__.ipynb",
   "output_path": "__notebook__.ipynb",
   "parameters": {},
   "start_time": "2022-10-19T18:20:19.364448",
   "version": "2.4.0"
  }
 },
 "nbformat": 4,
 "nbformat_minor": 5
}
